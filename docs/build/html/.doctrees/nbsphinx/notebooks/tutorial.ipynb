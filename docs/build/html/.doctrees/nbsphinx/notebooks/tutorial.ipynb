{
 "cells": [
  {
   "cell_type": "markdown",
   "metadata": {
    "collapsed": false,
    "pycharm": {
     "name": "#%% md\n"
    }
   },
   "source": [
    "# Tutorials\n",
    "\n",
    "## Basic setup\n",
    "Suneku is aimed to be very easy to use! Create a simple client:"
   ]
  },
  {
   "cell_type": "code",
   "execution_count": 1,
   "metadata": {
    "collapsed": false,
    "execution": {
     "iopub.execute_input": "2022-04-19T18:05:06.548979Z",
     "iopub.status.busy": "2022-04-19T18:05:06.547979Z",
     "iopub.status.idle": "2022-04-19T18:05:07.183502Z",
     "shell.execute_reply": "2022-04-19T18:05:07.183502Z"
    },
    "pycharm": {
     "name": "#%%\n"
    }
   },
   "outputs": [
    {
     "name": "stderr",
     "output_type": "stream",
     "text": [
      "E:\\JetBrains Projects\\Python\\API\\Suneku\\suneku\\client.py:76: RuntimeWarning: coroutine 'Client.login' was never awaited\n",
      "  self.login()\n",
      "RuntimeWarning: Enable tracemalloc to get the object allocation traceback\n"
     ]
    }
   ],
   "source": [
    "from suneku import Client\n",
    "\n",
    "client = Client(username=\"rocchanbot\", password=\"rocchanpw\")\n",
    "\n",
    "await client.login()"
   ]
  },
  {
   "cell_type": "markdown",
   "metadata": {
    "collapsed": false,
    "pycharm": {
     "name": "#%% md\n"
    }
   },
   "source": [
    "And then search for a Visual Novel:"
   ]
  },
  {
   "cell_type": "code",
   "execution_count": 2,
   "metadata": {
    "collapsed": false,
    "execution": {
     "iopub.execute_input": "2022-04-19T18:05:07.185505Z",
     "iopub.status.busy": "2022-04-19T18:05:07.185505Z",
     "iopub.status.idle": "2022-04-19T18:05:07.279582Z",
     "shell.execute_reply": "2022-04-19T18:05:07.279582Z"
    },
    "pycharm": {
     "name": "#%%\n"
    }
   },
   "outputs": [],
   "source": [
    "await client.get_vn(\"Flowers\")"
   ]
  },
  {
   "cell_type": "markdown",
   "metadata": {
    "collapsed": false,
    "pycharm": {
     "name": "#%% md\n"
    }
   },
   "source": [
    "## Getting more info\n",
    "If you want to get more information from VNDB you have to pass flags to your search:"
   ]
  },
  {
   "cell_type": "code",
   "execution_count": 3,
   "metadata": {
    "collapsed": false,
    "execution": {
     "iopub.execute_input": "2022-04-19T18:05:07.281584Z",
     "iopub.status.busy": "2022-04-19T18:05:07.281584Z",
     "iopub.status.idle": "2022-04-19T18:05:07.454728Z",
     "shell.execute_reply": "2022-04-19T18:05:07.454728Z"
    },
    "pycharm": {
     "name": "#%%\n"
    }
   },
   "outputs": [
    {
     "data": {
      "text/plain": [
       "<coroutine object Client.get_vn at 0x000001A4206F3F40>"
      ]
     },
     "execution_count": 3,
     "metadata": {},
     "output_type": "execute_result"
    }
   ],
   "source": [
    "from suneku import Client\n",
    "\n",
    "client = Client(username=\"foo\", password=\"bar\")\n",
    "\n",
    "client.get_vn(\"Clannad\", flags={\"basic\", \"details\", \"tags\"})"
   ]
  },
  {
   "cell_type": "markdown",
   "metadata": {
    "collapsed": false,
    "pycharm": {
     "name": "#%% md\n"
    }
   },
   "source": [
    "By default, only the ``basic`` flag is set. Only certain flags are allowed. Refer to the documentation."
   ]
  },
  {
   "cell_type": "markdown",
   "metadata": {
    "collapsed": false,
    "pycharm": {
     "name": "#%% md\n"
    }
   },
   "source": [
    "# Utilizing extensions\n",
    "## Output Formatter\n",
    "This library provides a formatter to convert the Output from VNDB into a human-readable JSON."
   ]
  },
  {
   "cell_type": "code",
   "execution_count": 4,
   "metadata": {
    "collapsed": false,
    "execution": {
     "iopub.execute_input": "2022-04-19T18:05:07.456729Z",
     "iopub.status.busy": "2022-04-19T18:05:07.456729Z",
     "iopub.status.idle": "2022-04-19T18:05:07.628872Z",
     "shell.execute_reply": "2022-04-19T18:05:07.628872Z"
    },
    "pycharm": {
     "name": "#%%\n"
    }
   },
   "outputs": [
    {
     "data": {
      "text/plain": [
       "<coroutine object Client.get_vn at 0x000001A420784190>"
      ]
     },
     "execution_count": 4,
     "metadata": {},
     "output_type": "execute_result"
    }
   ],
   "source": [
    "from suneku import Client\n",
    "\n",
    "client = Client(username=\"foo\", password=\"bar\")\n",
    "\n",
    "client.get_vn(\"Clannad\", humanize=True)"
   ]
  },
  {
   "cell_type": "markdown",
   "metadata": {
    "collapsed": false,
    "pycharm": {
     "name": "#%% md\n"
    }
   },
   "source": []
  }
 ],
 "metadata": {
  "kernelspec": {
   "display_name": "Python 3",
   "language": "python",
   "name": "python3"
  },
  "language_info": {
   "codemirror_mode": {
    "name": "ipython",
    "version": 3
   },
   "file_extension": ".py",
   "mimetype": "text/x-python",
   "name": "python",
   "nbconvert_exporter": "python",
   "pygments_lexer": "ipython3",
   "version": "3.10.2"
  }
 },
 "nbformat": 4,
 "nbformat_minor": 0
}
